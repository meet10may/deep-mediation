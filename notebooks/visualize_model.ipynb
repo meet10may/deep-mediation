{
 "cells": [
  {
   "cell_type": "code",
   "execution_count": null,
   "metadata": {},
   "outputs": [],
   "source": [
    "!pip install -U -I git+https://github.com/raghakot/keras-vis.git\n",
    "!pip install scipy==1.1.0\n",
    "!pip install nilearn"
   ]
  },
  {
   "cell_type": "code",
   "execution_count": 1,
   "metadata": {},
   "outputs": [
    {
     "ename": "ImportError",
     "evalue": "cannot import name '_Conv'",
     "output_type": "error",
     "traceback": [
      "\u001b[0;31m---------------------------------------------------------------------------\u001b[0m",
      "\u001b[0;31mImportError\u001b[0m                               Traceback (most recent call last)",
      "\u001b[0;32m<ipython-input-1-8a010b5569bf>\u001b[0m in \u001b[0;36m<module>\u001b[0;34m\u001b[0m\n\u001b[1;32m     10\u001b[0m \u001b[0;32mimport\u001b[0m \u001b[0mos\u001b[0m\u001b[0;34m\u001b[0m\u001b[0;34m\u001b[0m\u001b[0m\n\u001b[1;32m     11\u001b[0m \u001b[0;32mimport\u001b[0m \u001b[0mmatplotlib\u001b[0m\u001b[0;34m.\u001b[0m\u001b[0mcm\u001b[0m \u001b[0;32mas\u001b[0m \u001b[0mcm\u001b[0m\u001b[0;34m\u001b[0m\u001b[0;34m\u001b[0m\u001b[0m\n\u001b[0;32m---> 12\u001b[0;31m \u001b[0;32mfrom\u001b[0m \u001b[0mvis\u001b[0m\u001b[0;34m.\u001b[0m\u001b[0mvisualization\u001b[0m \u001b[0;32mimport\u001b[0m \u001b[0mvisualize_cam\u001b[0m\u001b[0;34m\u001b[0m\u001b[0;34m\u001b[0m\u001b[0m\n\u001b[0m\u001b[1;32m     13\u001b[0m \u001b[0;32mfrom\u001b[0m \u001b[0mvis\u001b[0m\u001b[0;34m.\u001b[0m\u001b[0mvisualization\u001b[0m \u001b[0;32mimport\u001b[0m \u001b[0mvisualize_saliency\u001b[0m\u001b[0;34m,\u001b[0m \u001b[0moverlay\u001b[0m\u001b[0;34m\u001b[0m\u001b[0;34m\u001b[0m\u001b[0m\n\u001b[1;32m     14\u001b[0m \u001b[0;32mfrom\u001b[0m \u001b[0mvis\u001b[0m\u001b[0;34m.\u001b[0m\u001b[0mutils\u001b[0m \u001b[0;32mimport\u001b[0m \u001b[0mutils\u001b[0m\u001b[0;34m\u001b[0m\u001b[0;34m\u001b[0m\u001b[0m\n",
      "\u001b[0;32m~/anaconda3/envs/deep_structure/lib/python3.6/site-packages/vis/visualization/__init__.py\u001b[0m in \u001b[0;36m<module>\u001b[0;34m\u001b[0m\n\u001b[1;32m      5\u001b[0m \u001b[0;32mfrom\u001b[0m \u001b[0;34m.\u001b[0m\u001b[0mactivation_maximization\u001b[0m \u001b[0;32mimport\u001b[0m \u001b[0mvisualize_activation\u001b[0m\u001b[0;34m\u001b[0m\u001b[0;34m\u001b[0m\u001b[0m\n\u001b[1;32m      6\u001b[0m \u001b[0;34m\u001b[0m\u001b[0m\n\u001b[0;32m----> 7\u001b[0;31m \u001b[0;32mfrom\u001b[0m \u001b[0;34m.\u001b[0m\u001b[0msaliency\u001b[0m \u001b[0;32mimport\u001b[0m \u001b[0mvisualize_saliency_with_losses\u001b[0m\u001b[0;34m\u001b[0m\u001b[0;34m\u001b[0m\u001b[0m\n\u001b[0m\u001b[1;32m      8\u001b[0m \u001b[0;32mfrom\u001b[0m \u001b[0;34m.\u001b[0m\u001b[0msaliency\u001b[0m \u001b[0;32mimport\u001b[0m \u001b[0mvisualize_saliency\u001b[0m\u001b[0;34m\u001b[0m\u001b[0;34m\u001b[0m\u001b[0m\n\u001b[1;32m      9\u001b[0m \u001b[0;32mfrom\u001b[0m \u001b[0;34m.\u001b[0m\u001b[0msaliency\u001b[0m \u001b[0;32mimport\u001b[0m \u001b[0mvisualize_cam_with_losses\u001b[0m\u001b[0;34m\u001b[0m\u001b[0;34m\u001b[0m\u001b[0m\n",
      "\u001b[0;32m~/anaconda3/envs/deep_structure/lib/python3.6/site-packages/vis/visualization/saliency.py\u001b[0m in \u001b[0;36m<module>\u001b[0;34m\u001b[0m\n\u001b[1;32m      4\u001b[0m \u001b[0;32mfrom\u001b[0m \u001b[0mscipy\u001b[0m\u001b[0;34m.\u001b[0m\u001b[0mndimage\u001b[0m\u001b[0;34m.\u001b[0m\u001b[0minterpolation\u001b[0m \u001b[0;32mimport\u001b[0m \u001b[0mzoom\u001b[0m\u001b[0;34m\u001b[0m\u001b[0;34m\u001b[0m\u001b[0m\n\u001b[1;32m      5\u001b[0m \u001b[0;34m\u001b[0m\u001b[0m\n\u001b[0;32m----> 6\u001b[0;31m \u001b[0;32mfrom\u001b[0m \u001b[0mkeras\u001b[0m\u001b[0;34m.\u001b[0m\u001b[0mlayers\u001b[0m\u001b[0;34m.\u001b[0m\u001b[0mconvolutional\u001b[0m \u001b[0;32mimport\u001b[0m \u001b[0m_Conv\u001b[0m\u001b[0;34m\u001b[0m\u001b[0;34m\u001b[0m\u001b[0m\n\u001b[0m\u001b[1;32m      7\u001b[0m \u001b[0;32mfrom\u001b[0m \u001b[0mkeras\u001b[0m\u001b[0;34m.\u001b[0m\u001b[0mlayers\u001b[0m\u001b[0;34m.\u001b[0m\u001b[0mpooling\u001b[0m \u001b[0;32mimport\u001b[0m \u001b[0m_Pooling1D\u001b[0m\u001b[0;34m,\u001b[0m \u001b[0m_Pooling2D\u001b[0m\u001b[0;34m,\u001b[0m \u001b[0m_Pooling3D\u001b[0m\u001b[0;34m\u001b[0m\u001b[0;34m\u001b[0m\u001b[0m\n\u001b[1;32m      8\u001b[0m \u001b[0;32mfrom\u001b[0m \u001b[0mkeras\u001b[0m\u001b[0;34m.\u001b[0m\u001b[0mlayers\u001b[0m\u001b[0;34m.\u001b[0m\u001b[0mwrappers\u001b[0m \u001b[0;32mimport\u001b[0m \u001b[0mWrapper\u001b[0m\u001b[0;34m\u001b[0m\u001b[0;34m\u001b[0m\u001b[0m\n",
      "\u001b[0;31mImportError\u001b[0m: cannot import name '_Conv'"
     ]
    }
   ],
   "source": [
    "import tensorflow as tf\n",
    "import keras\n",
    "from keras.models import load_model\n",
    "from keras import models\n",
    "from keras.models import Model \n",
    "import numpy as np\n",
    "import nibabel as nib\n",
    "from keras import backend as K\n",
    "\n",
    "import os\n",
    "import matplotlib.cm as cm\n",
    "from vis.visualization import visualize_cam\n",
    "from vis.visualization import visualize_saliency, overlay\n",
    "from vis.utils import utils\n",
    "from keras import activations\n",
    "from nilearn import plotting\n",
    "\n",
    "from nilearn.datasets import load_mni152_template\n",
    "from nilearn.image import resample_to_img,load_img\n",
    "\n",
    "\n",
    "from scipy.stats import zscore\n",
    "from nilearn.image import threshold_img\n",
    "from scipy.io import savemat\n",
    "\n",
    "from nilearn.image import load_img, index_img\n",
    "from nilearn.image import resample_to_img\n",
    "from nilearn.datasets import load_mni152_template"
   ]
  },
  {
   "cell_type": "code",
   "execution_count": 2,
   "metadata": {},
   "outputs": [
    {
     "data": {
      "text/plain": [
       "'2.3.0'"
      ]
     },
     "execution_count": 2,
     "metadata": {},
     "output_type": "execute_result"
    }
   ],
   "source": [
    "import tensorflow as tf\n",
    "tf.__version__"
   ]
  },
  {
   "cell_type": "code",
   "execution_count": 3,
   "metadata": {},
   "outputs": [
    {
     "data": {
      "text/plain": [
       "'2.4.3'"
      ]
     },
     "execution_count": 3,
     "metadata": {},
     "output_type": "execute_result"
    }
   ],
   "source": [
    "import keras\n",
    "keras.__version__"
   ]
  },
  {
   "cell_type": "code",
   "execution_count": 5,
   "metadata": {},
   "outputs": [],
   "source": [
    "def get_gradCAM_map(input_data,model,layer_name,penultimate_layer_name,trial,filter_indices=None,\n",
    "                    backprop_modifier=None,output_path=None,resample=True,threshold=True,\n",
    "                    fname='activation-3',plot=True,affine_mat=None,hdr=None):\n",
    "    \n",
    "    layer_idx = utils.find_layer_idx(model, layer_name)\n",
    "    penultimate_layer = utils.find_layer_idx(model, penultimate_layer_name)\n",
    "    if isinstance(input_data,str):\n",
    "        data = np.array(nib.load(input_data).get_fdata())\n",
    "        affine_mat = nib.load(input_data).affine\n",
    "        hdr = nib.load(input_data).header\n",
    "    else:\n",
    "        data = input_data\n",
    "#     if data.shape\n",
    "#     img = np.rollaxis(data, 3, 0)[...,None]\n",
    "    img = np.rollaxis(data, 0, 0)[...,None]\n",
    "    grads = visualize_cam(model, layer_idx, filter_indices, seed_input=img, \n",
    "                          penultimate_layer_idx=penultimate_layer, backprop_modifier=None)   \n",
    "#     grads = visualize_cam(model, layer_idx, filter_indices, seed_input=img[10:15,:,:,:,:], \n",
    "#                           penultimate_layer_idx=penultimate_layer, backprop_modifier=None)\n",
    "    template = load_mni152_template()\n",
    "    if resample:\n",
    "        grads_ = nib.Nifti1Image(grads, affine_mat, hdr)\n",
    "        resampled_grads_img = resample_to_img(grads_, template)\n",
    "        resampled_fname = os.path.join(output_path,'trial-'+str(trial)+'-'+fname+'.nii')\n",
    "        resampled_grads_img.to_filename(resampled_fname)\n",
    "        if plot:\n",
    "            resampled_plot_fname = os.path.join(output_path,'trial-'+str(trial)+'-'+fname)\n",
    "            plotting.plot_stat_map(resampled_grads_img, display_mode='z', cut_coords=[36, -27, 60],\n",
    "                           title='Unthresholded beta-map', \n",
    "                           output_file=resampled_plot_fname,colorbar=True)\n",
    "        \n",
    "    if threshold:\n",
    "        threshold_percentile_img = threshold_img(resampled_fname, threshold='97%', copy=False)\n",
    "        thresholded_fname = os.path.join(output_path,'trial-'+str(trial)+'-'+fname+'-threshold.nii')\n",
    "        threshold_percentile_img.to_filename(thresholded_fname)\n",
    "        print(\"Thresholded image saved!\")\n",
    "        if plot:\n",
    "            threshold_plot_fname = os.path.join(output_path,'trial-'+str(trial)+'-'+fname+'-threshold')\n",
    "            plotting.plot_stat_map(threshold_percentile_img, display_mode='z', cut_coords=[36, -27, 60],\n",
    "                                   title='Thresholded beta-map with 97% percentile', \n",
    "                                   output_file=threshold_plot_fname,colorbar=True)\n",
    "       \n",
    "    return grads,resampled_grads_img"
   ]
  },
  {
   "cell_type": "code",
   "execution_count": null,
   "metadata": {},
   "outputs": [],
   "source": [
    "data = '/home/tanmay/JHU/project/data/BMRK4/bmrk4_st_sub011-2.nii'\n",
    "\n",
    "layers = [\"activation_3\",\"activation_5\",\"activation_7\",\"activation_9\",\"activation_11\",\"activation_12\"]\n",
    "penultimate_layer_name = 'conv3d_1'\n",
    "result_path = '/home/tanmay/JHU/project/deep-mediation/results/nov2020/visualize_model'\n",
    "\n",
    "num_trials = nib.load(data).get_fdata().shape[-1]\n",
    "header = nib.load(data).header\n",
    "affine_matrix = nib.load(data).affine\n",
    "\n",
    "for trial in range(num_trials):\n",
    "    input_data = np.array(nib.load(data).get_fdata())[:,:,:,trial]\n",
    "    print(\"Processing %s trial...\"%trial)\n",
    "    for layer_name in layers:\n",
    "        print(\"Processing %s\"%layer_name)\n",
    "        grads,resampled_grads_img = get_gradCAM_map(input_data,model,layer_name,penultimate_layer_name,trial,\n",
    "                                                    filter_indices=None,backprop_modifier=None,\n",
    "                                                    output_path=result_path,resample=True,\n",
    "                                                    threshold=True,fname=layer_name,plot=True,\n",
    "                                                    affine_mat=affine_matrix,hdr=header)\n"
   ]
  },
  {
   "cell_type": "code",
   "execution_count": null,
   "metadata": {},
   "outputs": [],
   "source": []
  },
  {
   "cell_type": "code",
   "execution_count": null,
   "metadata": {},
   "outputs": [],
   "source": []
  },
  {
   "cell_type": "code",
   "execution_count": null,
   "metadata": {},
   "outputs": [],
   "source": []
  }
 ],
 "metadata": {
  "kernelspec": {
   "display_name": "Python 3",
   "language": "python",
   "name": "python3"
  },
  "language_info": {
   "codemirror_mode": {
    "name": "ipython",
    "version": 3
   },
   "file_extension": ".py",
   "mimetype": "text/x-python",
   "name": "python",
   "nbconvert_exporter": "python",
   "pygments_lexer": "ipython3",
   "version": "3.5.6"
  }
 },
 "nbformat": 4,
 "nbformat_minor": 4
}
