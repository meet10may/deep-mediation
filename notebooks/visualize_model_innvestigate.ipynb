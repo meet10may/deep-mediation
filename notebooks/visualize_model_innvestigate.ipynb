{
 "cells": [
  {
   "cell_type": "code",
   "execution_count": null,
   "metadata": {},
   "outputs": [],
   "source": [
    "import innvestigate\n",
    "import numpy as np\n",
    "from nilearn.image import load_img,mean_img\n",
    "from keras.models import load_model\n",
    "import nibabel as nib\n",
    "import create_dataset,utils\n",
    "import pandas as pd\n",
    "from nilearn.image import resample_img,concat_imgs,load_img,resample_to_img\n"
   ]
  },
  {
   "cell_type": "code",
   "execution_count": null,
   "metadata": {},
   "outputs": [],
   "source": [
    "data_path = '/home/ubuntu/hacking/data/stephan-data-ni-files'\n",
    "model_to_use = '/home/ubuntu/hacking/projects/deep-mediation/jan-2021/results-feb/model-iter-1.h5'\n",
    "img_to_use = '/home/ubuntu/hacking/data/stephan-data-ni-files/BMRK5_data/stim_bmrk5_S860_OC1339_zs.nii'"
   ]
  },
  {
   "cell_type": "code",
   "execution_count": null,
   "metadata": {},
   "outputs": [],
   "source": [
    "dataset = create_dataset.generate_dataset(data_path,test_data_size=0.30)\n",
    "test_rate,test_temp,test_imgs_list,flat_test_rate,flat_test_rate_zs = utils.get_rate_temp_img(dataset,subjs='test_subjs')\n",
    "df_test = pd.DataFrame()\n",
    "df_test['X'] = test_temp\n",
    "df_test['Y'] = flat_test_rate_zs"
   ]
  },
  {
   "cell_type": "code",
   "execution_count": null,
   "metadata": {},
   "outputs": [],
   "source": [
    "print(\"Reading testing images...\")\n",
    "test_imgs = concat_imgs(test_imgs_list)\n",
    "test_imgs = np.rollaxis(test_imgs.get_fdata(), 3, 0)[...,None]\n",
    "print(test_imgs.shape)"
   ]
  },
  {
   "cell_type": "code",
   "execution_count": null,
   "metadata": {},
   "outputs": [],
   "source": [
    "def get_model(model_to_use):\n",
    "    model_with_gpu = load_model(model_to_use)\n",
    "    model = model_with_gpu.layers[-2]\n",
    "    return model\n",
    "def get_nifti_params(input_img):\n",
    "    affine = input_img.affine\n",
    "    hdr = input_img.header\n",
    "    return affine,hdr\n",
    "def get_nifti_image(array,affine,header):\n",
    "    nii_image = nib.Nifti1Image(array, affine, header)\n",
    "    return nii_image"
   ]
  },
  {
   "cell_type": "code",
   "execution_count": null,
   "metadata": {},
   "outputs": [],
   "source": [
    "# input_img = load_img(img_to_use)\n",
    "# affine,hdr = get_nifti_params(input_img)\n",
    "# input_img = input_img.get_fdata()\n",
    "# input_img = np.rollaxis(input_img, 3,0)[...,None]\n",
    "# print(input_img.shape)"
   ]
  },
  {
   "cell_type": "code",
   "execution_count": null,
   "metadata": {},
   "outputs": [],
   "source": [
    "model=get_model(model_to_use)\n",
    "model.summary()"
   ]
  },
  {
   "cell_type": "code",
   "execution_count": null,
   "metadata": {},
   "outputs": [],
   "source": [
    "analyzer = innvestigate.create_analyzer(\"gradient\", model)\n",
    "analysis = analyzer.analyze(input_img)\n",
    "analysis.shape"
   ]
  },
  {
   "cell_type": "code",
   "execution_count": null,
   "metadata": {},
   "outputs": [],
   "source": [
    "img = np.rollaxis(analysis, 0, 4)[:,:,:,:,0]\n",
    "img.shape"
   ]
  },
  {
   "cell_type": "code",
   "execution_count": null,
   "metadata": {},
   "outputs": [],
   "source": [
    "meanImg = mean_img(get_nifti_image(img,affine,hdr))\n",
    "meanImg.shape"
   ]
  },
  {
   "cell_type": "code",
   "execution_count": null,
   "metadata": {},
   "outputs": [],
   "source": [
    "analysis[:,:,:,:,0].shape\n",
    "# meanImg = mean_img(analysis)"
   ]
  },
  {
   "cell_type": "code",
   "execution_count": null,
   "metadata": {},
   "outputs": [],
   "source": []
  }
 ],
 "metadata": {
  "kernelspec": {
   "display_name": "Python 3",
   "language": "python",
   "name": "python3"
  },
  "language_info": {
   "codemirror_mode": {
    "name": "ipython",
    "version": 3
   },
   "file_extension": ".py",
   "mimetype": "text/x-python",
   "name": "python",
   "nbconvert_exporter": "python",
   "pygments_lexer": "ipython3",
   "version": "3.5.6"
  }
 },
 "nbformat": 4,
 "nbformat_minor": 4
}
